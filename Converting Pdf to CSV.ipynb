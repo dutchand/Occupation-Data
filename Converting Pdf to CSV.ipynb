{
 "cells": [
  {
   "cell_type": "code",
   "execution_count": null,
   "metadata": {
    "scrolled": true
   },
   "outputs": [],
   "source": [
    "pip install matplotlib"
   ]
  },
  {
   "cell_type": "code",
   "execution_count": 1,
   "metadata": {
    "scrolled": true
   },
   "outputs": [],
   "source": [
    "from tabula import read_pdf\n",
    "from tabulate import tabulate\n",
    "import csv\n",
    "import os\n",
    "import pandas as pd\n",
    "import tabula\n",
    "import csv\n",
    "import openpyxl as myxl;"
   ]
  },
  {
   "cell_type": "code",
   "execution_count": 2,
   "metadata": {},
   "outputs": [
    {
     "name": "stdout",
     "output_type": "stream",
     "text": [
      "--  ---------------------\n",
      " 0  CENTRAL BARAMITA\n",
      " 1  BARAMITA\n",
      " 2  BARAMITA\n",
      " 3  BARAMITA\n",
      " 4  BARAMITA\n",
      " 5  BARAMITA\n",
      " 6  LAST RESORT BARAMITA\n",
      " 7  LAST RESORT BARAMITA\n",
      " 8  BARAMITA\n",
      " 9  LAST RESORT BARAMITA\n",
      "10  BARAMITA\n",
      "11  BARAMITA\n",
      "12  BARAMITA\n",
      "13  CENTRAL BARAMITA\n",
      "14  BARAMITA\n",
      "15  CENTRAL BARAMITA\n",
      "16  BARAMITA\n",
      "17  BARAMITA\n",
      "18  BARAMITA\n",
      "19  CASSIE CREEK BARAMITA\n",
      "20  CASSIE CREEK BARAMITA\n",
      "21  BARAMITA\n",
      "22  BARAMITA\n",
      "23  BARAMITA\n",
      "24  LOG HILL BARAMITA\n",
      "25  BARAMITA\n",
      "26  BARAMITA\n",
      "27  CENTRAL BARAMITA\n",
      "28  BARAMITA\n",
      "29  WARAPA BARAMITA\n",
      "30  CENTRAL BARAMITA\n",
      "31  BARAMITA\n",
      "32  BARAMITA\n",
      "33  BARAMA LINE BARAMITA\n",
      "34  BARAMITA\n",
      "35  CENTRAL BARAMITA\n",
      "36  CENTRAL BARAMITA\n",
      "37  BARAMITA\n",
      "38  BARAMITA\n",
      "39  CENTRAL BARAMITA\n",
      "40  CENTRAL BARAMITA\n",
      "41  BARAMITA\n",
      "42  BARAMITA\n",
      "43  CENTRAL BARAMITA\n",
      "44  BARAMITA\n",
      "45  CENTRAL BARAMITA\n",
      "46  BARAMITA\n",
      "47  BARAMITA\n",
      "48  CENTRAL BARAMITA\n",
      "49  BARAMITA\n",
      "50  CENTRAL BARAMITA\n",
      "--  ---------------------\n"
     ]
    }
   ],
   "source": [
    "df = read_pdf(\"District 01.pdf\", pages=3)\n",
    "df = df.dropna(axis='columns')\n",
    "print (tabulate(df))"
   ]
  },
  {
   "cell_type": "code",
   "execution_count": null,
   "metadata": {},
   "outputs": [],
   "source": [
    "df = read_pdf(\"District 01.pdf\", encoding = 'ISO-8859-1',\n",
    "         stream=True, area = [269.875, 12.75, 790.5, 961], pages = 3, guess = False,  pandas_options={'header':None})\n",
    "df"
   ]
  },
  {
   "cell_type": "code",
   "execution_count": null,
   "metadata": {},
   "outputs": [],
   "source": []
  },
  {
   "cell_type": "code",
   "execution_count": null,
   "metadata": {},
   "outputs": [],
   "source": [
    "df = read_pdf(\"District 01.pdf\", encoding = 'ISO-8859-1', pages = 3,\n",
    "         stream=True, guess = False)\n",
    "df"
   ]
  },
  {
   "cell_type": "code",
   "execution_count": 4,
   "metadata": {},
   "outputs": [
    {
     "data": {
      "text/html": [
       "<div>\n",
       "<style scoped>\n",
       "    .dataframe tbody tr th:only-of-type {\n",
       "        vertical-align: middle;\n",
       "    }\n",
       "\n",
       "    .dataframe tbody tr th {\n",
       "        vertical-align: top;\n",
       "    }\n",
       "\n",
       "    .dataframe thead th {\n",
       "        text-align: right;\n",
       "    }\n",
       "</style>\n",
       "<table border=\"1\" class=\"dataframe\">\n",
       "  <thead>\n",
       "    <tr style=\"text-align: right;\">\n",
       "      <th></th>\n",
       "      <th>Unnamed: 0</th>\n",
       "      <th>Unnamed: 1</th>\n",
       "      <th>PRELIMINARY LIST OF ELECTORS</th>\n",
       "      <th>Unnamed: 3</th>\n",
       "      <th>Unnamed: 4</th>\n",
       "    </tr>\n",
       "  </thead>\n",
       "  <tbody>\n",
       "    <tr>\n",
       "      <th>0</th>\n",
       "      <td>District 1</td>\n",
       "      <td>NaN</td>\n",
       "      <td>Division Number: 12225</td>\n",
       "      <td>NaN</td>\n",
       "      <td>NaN</td>\n",
       "    </tr>\n",
       "    <tr>\n",
       "      <th>1</th>\n",
       "      <td>NaN</td>\n",
       "      <td>NaN</td>\n",
       "      <td>Division Name: CHINESE LANDING</td>\n",
       "      <td>NaN</td>\n",
       "      <td>NaN</td>\n",
       "    </tr>\n",
       "    <tr>\n",
       "      <th>2</th>\n",
       "      <td>No. Surname</td>\n",
       "      <td>NaN</td>\n",
       "      <td>First Name Middle Name Address</td>\n",
       "      <td>Occupation</td>\n",
       "      <td>ID Number</td>\n",
       "    </tr>\n",
       "    <tr>\n",
       "      <th>3</th>\n",
       "      <td>1 CREAME</td>\n",
       "      <td>NaN</td>\n",
       "      <td>AUBREY BARAMA RIVER CHINESE</td>\n",
       "      <td>MINER</td>\n",
       "      <td>152534829</td>\n",
       "    </tr>\n",
       "    <tr>\n",
       "      <th>4</th>\n",
       "      <td>NaN</td>\n",
       "      <td>NaN</td>\n",
       "      <td>LANDING MORUCA</td>\n",
       "      <td>NaN</td>\n",
       "      <td>NaN</td>\n",
       "    </tr>\n",
       "    <tr>\n",
       "      <th>...</th>\n",
       "      <td>...</td>\n",
       "      <td>...</td>\n",
       "      <td>...</td>\n",
       "      <td>...</td>\n",
       "      <td>...</td>\n",
       "    </tr>\n",
       "    <tr>\n",
       "      <th>78</th>\n",
       "      <td>36 WILLIAMS</td>\n",
       "      <td>NaN</td>\n",
       "      <td>NAFESA BARAMA RIVER CHINESE</td>\n",
       "      <td>-</td>\n",
       "      <td>148268381</td>\n",
       "    </tr>\n",
       "    <tr>\n",
       "      <th>79</th>\n",
       "      <td>NaN</td>\n",
       "      <td>NaN</td>\n",
       "      <td>LANDING MORUCA</td>\n",
       "      <td>NaN</td>\n",
       "      <td>NaN</td>\n",
       "    </tr>\n",
       "    <tr>\n",
       "      <th>80</th>\n",
       "      <td>37 WILLIAMS</td>\n",
       "      <td>NaN</td>\n",
       "      <td>PEARL JANET TASSAWINI LANDING</td>\n",
       "      <td>-</td>\n",
       "      <td>152535508</td>\n",
       "    </tr>\n",
       "    <tr>\n",
       "      <th>81</th>\n",
       "      <td>NaN</td>\n",
       "      <td>NaN</td>\n",
       "      <td>CHINESE LANDING MORUCA</td>\n",
       "      <td>NaN</td>\n",
       "      <td>NaN</td>\n",
       "    </tr>\n",
       "    <tr>\n",
       "      <th>82</th>\n",
       "      <td>Date Of Issue:</td>\n",
       "      <td>Wednesday, September 25, 2019</td>\n",
       "      <td>NaN</td>\n",
       "      <td>NaN</td>\n",
       "      <td>Page 700 of 708</td>\n",
       "    </tr>\n",
       "  </tbody>\n",
       "</table>\n",
       "<p>83 rows × 5 columns</p>\n",
       "</div>"
      ],
      "text/plain": [
       "        Unnamed: 0                     Unnamed: 1  \\\n",
       "0       District 1                            NaN   \n",
       "1              NaN                            NaN   \n",
       "2      No. Surname                            NaN   \n",
       "3         1 CREAME                            NaN   \n",
       "4              NaN                            NaN   \n",
       "..             ...                            ...   \n",
       "78     36 WILLIAMS                            NaN   \n",
       "79             NaN                            NaN   \n",
       "80     37 WILLIAMS                            NaN   \n",
       "81             NaN                            NaN   \n",
       "82  Date Of Issue:  Wednesday, September 25, 2019   \n",
       "\n",
       "      PRELIMINARY LIST OF ELECTORS  Unnamed: 3       Unnamed: 4  \n",
       "0           Division Number: 12225         NaN              NaN  \n",
       "1   Division Name: CHINESE LANDING         NaN              NaN  \n",
       "2   First Name Middle Name Address  Occupation        ID Number  \n",
       "3      AUBREY BARAMA RIVER CHINESE       MINER        152534829  \n",
       "4                   LANDING MORUCA         NaN              NaN  \n",
       "..                             ...         ...              ...  \n",
       "78     NAFESA BARAMA RIVER CHINESE           -        148268381  \n",
       "79                  LANDING MORUCA         NaN              NaN  \n",
       "80   PEARL JANET TASSAWINI LANDING           -        152535508  \n",
       "81          CHINESE LANDING MORUCA         NaN              NaN  \n",
       "82                             NaN         NaN  Page 700 of 708  \n",
       "\n",
       "[83 rows x 5 columns]"
      ]
     },
     "execution_count": 4,
     "metadata": {},
     "output_type": "execute_result"
    }
   ],
   "source": [
    "fields = [\"Surname\", \"Name\", \"Address\", \"Occupation\", \"ID\"]\n",
    "df = read_pdf(\"District 01.pdf\", encoding = 'ISO-8859-1', pages = \"699-700\", \n",
    "         stream=True, guess = False, usecols = fields)\n",
    "df"
   ]
  },
  {
   "cell_type": "code",
   "execution_count": null,
   "metadata": {},
   "outputs": [],
   "source": [
    "pgs = [\"3-18\", \"21\", \"24\", \"27\", \"30-37\", \"40-54\", \"57-66\", \"69-103\", \"106-127\", \"130-156\", \"159\", \"162-166\", \"169\", \"172-173\",\n",
    "      \"176-177\", \"180\", \"183-190\", \"193-196\", \"199-200\", \"203-205\", \"208\", \"212-216\", \"219-221\", \"224-228\", \"231-234\", \"237-259\", \n",
    "      \"262-264\", \"267-269\", \"272-273\", \"276-277\", \"280-284\", \"287-303\", \"306-322\", \"325-332\", \"335-341\", \"344-358\", \"361-363\",\n",
    "      \"366-369\", \"372-374\", \"377-393\", \"396-397\", \"400-402\", \"405-406\", \"409-410\", \"413\", \"416-424\", \"427-432\", \"435-440\", \"443-528\",\n",
    "      \"531-547\", \"550-592\", \"595-655\", \"658-671\", \"674\", \"677\", \"683-689\", \"692\",\"695-696\", \"699-700\",\"703-706\"]\n",
    "num_items = len(pgs)\n",
    "print(num_items)\n",
    "x = 0\n",
    "while x < num_items:\n",
    "    tabula.convert_into(\"District 01.pdf\", \"output\"+str(x)+\".csv\", output_format=\"csv\", pages = pgs[x], stream = True)\n",
    "    x += 1"
   ]
  },
  {
   "cell_type": "code",
   "execution_count": 5,
   "metadata": {},
   "outputs": [],
   "source": [
    "#tabula.convert_into(\"District 01.pdf\", \"output59.csv\", output_format=\"csv\", pages = \"703-706\", stream = True)"
   ]
  },
  {
   "cell_type": "code",
   "execution_count": null,
   "metadata": {},
   "outputs": [],
   "source": [
    "\n"
   ]
  },
  {
   "cell_type": "code",
   "execution_count": null,
   "metadata": {
    "scrolled": true
   },
   "outputs": [],
   "source": []
  },
  {
   "cell_type": "markdown",
   "metadata": {},
   "source": [
    "multi_tables = "
   ]
  },
  {
   "cell_type": "code",
   "execution_count": null,
   "metadata": {},
   "outputs": [],
   "source": []
  },
  {
   "cell_type": "code",
   "execution_count": null,
   "metadata": {},
   "outputs": [],
   "source": []
  },
  {
   "cell_type": "code",
   "execution_count": null,
   "metadata": {},
   "outputs": [],
   "source": []
  },
  {
   "cell_type": "code",
   "execution_count": 6,
   "metadata": {},
   "outputs": [],
   "source": []
  },
  {
   "cell_type": "code",
   "execution_count": null,
   "metadata": {},
   "outputs": [],
   "source": []
  },
  {
   "cell_type": "code",
   "execution_count": null,
   "metadata": {},
   "outputs": [],
   "source": []
  },
  {
   "cell_type": "code",
   "execution_count": null,
   "metadata": {},
   "outputs": [],
   "source": []
  },
  {
   "cell_type": "code",
   "execution_count": null,
   "metadata": {},
   "outputs": [],
   "source": []
  }
 ],
 "metadata": {
  "kernelspec": {
   "display_name": "Python 3",
   "language": "python",
   "name": "python3"
  },
  "language_info": {
   "codemirror_mode": {
    "name": "ipython",
    "version": 3
   },
   "file_extension": ".py",
   "mimetype": "text/x-python",
   "name": "python",
   "nbconvert_exporter": "python",
   "pygments_lexer": "ipython3",
   "version": "3.8.3"
  }
 },
 "nbformat": 4,
 "nbformat_minor": 2
}
